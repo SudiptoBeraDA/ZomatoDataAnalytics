{
  "nbformat": 4,
  "nbformat_minor": 0,
  "metadata": {
    "colab": {
      "provenance": [],
      "mount_file_id": "1whueLswF1m8cafTMDHzTZN1m_d_r8j6Z",
      "authorship_tag": "ABX9TyNSH/InQj/3Xme2IZQmUzLK",
      "include_colab_link": true
    },
    "kernelspec": {
      "name": "python3",
      "display_name": "Python 3"
    },
    "language_info": {
      "name": "python"
    }
  },
  "cells": [
    {
      "cell_type": "markdown",
      "metadata": {
        "id": "view-in-github",
        "colab_type": "text"
      },
      "source": [
        "<a href=\"https://colab.research.google.com/github/SudiptoBeraDA/Jarvis/blob/main/ZomatoDataAnalytics.ipynb\" target=\"_parent\"><img src=\"https://colab.research.google.com/assets/colab-badge.svg\" alt=\"Open In Colab\"/></a>"
      ]
    },
    {
      "cell_type": "code",
      "source": [
        "#Importing Liabries\n",
        "import pandas as pd\n",
        "import numpy as np\n",
        "import matplotlib.pyplot as plt\n",
        "import seaborn as sns\n",
        "import os\n",
        "import time\n"
      ],
      "metadata": {
        "id": "RESh1tixgKQF"
      },
      "execution_count": null,
      "outputs": []
    },
    {
      "cell_type": "code",
      "source": [
        "# importing data\n",
        "\n",
        "df = pd.read_csv('/content/Zomato data .csv')"
      ],
      "metadata": {
        "id": "Pm2Ug5C-g8OS"
      },
      "execution_count": null,
      "outputs": []
    },
    {
      "cell_type": "code",
      "source": [
        "df"
      ],
      "metadata": {
        "id": "Iaz-Hcn3hZXT"
      },
      "execution_count": null,
      "outputs": []
    },
    {
      "cell_type": "code",
      "source": [
        "def analyze_big_data(dataset_path):\n",
        "    # Load the dataset\n",
        "    if not os.path.exists(dataset_path):\n",
        "        print(\"Dataset not found. Please check the file path.\")\n",
        "        return\n",
        "\n",
        "    print(\"Loading dataset...\")\n",
        "    start_time = time.time()\n",
        "    try:\n",
        "        data = pd.read_csv(dataset_path)\n",
        "    except Exception as e:\n",
        "        print(f\"Error loading dataset: {e}\")\n",
        "        return\n",
        "\n",
        "    load_time = time.time() - start_time\n",
        "\n",
        "    print(f\"load_time ={load_time}\")\n",
        "\n",
        "analyze_big_data('/content/Zomato data .csv')"
      ],
      "metadata": {
        "id": "pcDawbE8PGi3"
      },
      "execution_count": null,
      "outputs": []
    },
    {
      "cell_type": "code",
      "source": [
        "import matplotlib.pyplot as plt\n",
        "\n",
        "# 1. Volume\n",
        "num_rows, num_columns = df.shape\n",
        "memory_usage = df.memory_usage(deep=True).sum() / (1024**2)  # Convert bytes to MB\n",
        "\n",
        "print(\"--- Volume ---\")\n",
        "print(f\"Number of rows: {num_rows}\")\n",
        "print(f\"Number of columns: {num_columns}\")\n",
        "print(f\"Memory usage: {memory_usage:.2f} MB\")\n",
        "\n",
        "# 2. Velocity\n",
        "print(\"\\n--- Velocity ---\")\n",
        "load_time = 0  # Replace this with the actual time taken to load the dataset\n",
        "print(f\"Time taken to load dataset: {load_time:.2f} seconds\")\n",
        "\n",
        "time_columns = [\n",
        "    col for col in df.columns if pd.api.types.is_datetime64_any_dtype(df[col]) or 'time' in col.lower()\n",
        "]\n",
        "\n",
        "if time_columns:\n",
        "    for col in time_columns:\n",
        "        df[col] = pd.to_datetime(df[col], errors='coerce')\n",
        "    velocity = df[time_columns[0]].diff().mean()\n",
        "    print(f\"Average time between updates based on column '{time_columns[0]}': {velocity}\")\n",
        "else:\n",
        "    print(\"Velocity: Not Applicable (No time-related column found)\")\n",
        "\n",
        "# 3. Variety\n",
        "print(\"\\n--- Variety ---\")\n",
        "data_types = df.dtypes.value_counts()\n",
        "unique_values = df.nunique()\n",
        "print(\"Data types:\")\n",
        "print(data_types)\n",
        "print(\"\\nUnique values per column:\")\n",
        "print(unique_values)\n",
        "\n",
        "# 4. Veracity\n",
        "print(\"\\n--- Veracity ---\")\n",
        "missing_values = df.isnull().sum().sum()\n",
        "duplicates = df.duplicated().sum()\n",
        "print(f\"Missing values: {missing_values}\")\n",
        "print(f\"Duplicate rows: {duplicates}\")\n",
        "\n",
        "# 5. Value\n",
        "print(\"\\n--- Value ---\")\n",
        "print(\"Basic statistics:\")\n",
        "print(df.describe(include='all'))  # Works without `datetime_is_numeric`\n",
        "\n",
        "# Visualize key findings (optional)\n",
        "plt.figure(figsize=(10, 5))\n",
        "data_types.plot(kind='bar', color='skyblue')\n",
        "plt.title(\"Data Types Distribution\")\n",
        "plt.xlabel(\"Data Type\")\n",
        "plt.ylabel(\"Count\")\n",
        "plt.xticks(rotation=45)\n",
        "plt.show()\n"
      ],
      "metadata": {
        "id": "jrSLDMCDP1l9"
      },
      "execution_count": null,
      "outputs": []
    },
    {
      "cell_type": "code",
      "source": [
        "# convert the datatype of of column - rate\n",
        "\n",
        "'''def handle_rate(value):\n",
        "  value = str(value).split('/')\n",
        "  value = value[0]\n",
        "  return float(value)\n",
        "\n",
        "df['rate'] = df['rate'].apply(handle_rate)'''\n",
        "\n",
        "# Remove '/5' from the rate column\n",
        "df['rate'] = df['rate'].str.replace('/5', '', regex=True)\n",
        "\n",
        "# Convert the column to float\n",
        "df['rate'] = pd.to_numeric(df['rate'], errors='coerce')\n"
      ],
      "metadata": {
        "id": "OKrq7-0BhaBq"
      },
      "execution_count": null,
      "outputs": []
    },
    {
      "cell_type": "code",
      "source": [
        "df['rate']"
      ],
      "metadata": {
        "id": "eOAUH0ZGiUDV"
      },
      "execution_count": null,
      "outputs": []
    },
    {
      "cell_type": "code",
      "source": [
        "df.head()"
      ],
      "metadata": {
        "id": "HZVj-YMniVtw"
      },
      "execution_count": null,
      "outputs": []
    },
    {
      "cell_type": "code",
      "source": [
        "# to check null values in any features\n",
        "df.info()"
      ],
      "metadata": {
        "id": "Q0xfmZW4ijva"
      },
      "execution_count": null,
      "outputs": []
    },
    {
      "cell_type": "code",
      "source": [
        "## Type of Resturent\n",
        "df.head()"
      ],
      "metadata": {
        "id": "Lx1iSs4penvJ"
      },
      "execution_count": null,
      "outputs": []
    },
    {
      "cell_type": "code",
      "source": [
        "sns.countplot(x=df['listed_in(type)'])\n",
        "plt.xlabel('Resturent')\n",
        "plt.ylabel('Count')\n",
        "plt.title('Type of Resturent')\n",
        "plt.show()"
      ],
      "metadata": {
        "id": "LtbARnJSfTm9"
      },
      "execution_count": null,
      "outputs": []
    },
    {
      "cell_type": "code",
      "source": [
        "# conclusion : majority of resturent falls in dining category"
      ],
      "metadata": {
        "id": "yk1P-hrWftyh"
      },
      "execution_count": null,
      "outputs": []
    },
    {
      "cell_type": "code",
      "source": [
        "df.head()"
      ],
      "metadata": {
        "id": "dL7LuTrEglrE"
      },
      "execution_count": null,
      "outputs": []
    },
    {
      "cell_type": "code",
      "source": [
        "# to know how many votes each type of resturent received from customers\n",
        "\n",
        "grouped_data= df.groupby('listed_in(type)')['votes'].sum()\n",
        "result = pd.DataFrame({'votes':grouped_data})\n",
        "plt.plot(result,c='red',marker='o')\n",
        "plt.xlabel('Resturent',c= 'red',size=15)\n",
        "plt.ylabel('Count',c= 'red',size=15)\n",
        "plt.title('Type of Resturent')\n",
        "plt.show()"
      ],
      "metadata": {
        "id": "3BAT-iDrgq2V"
      },
      "execution_count": null,
      "outputs": []
    },
    {
      "cell_type": "code",
      "source": [
        "# conclusion : dining resturent has received maximum votes , buffet and cafes need some improvement"
      ],
      "metadata": {
        "id": "pbUwzRP1jnAe"
      },
      "execution_count": null,
      "outputs": []
    },
    {
      "cell_type": "code",
      "source": [
        "df.head()\n"
      ],
      "metadata": {
        "id": "4fJYoQ4SknL6"
      },
      "execution_count": null,
      "outputs": []
    },
    {
      "cell_type": "code",
      "source": [
        "plt.hist(df['rate'],bins=5)\n",
        "plt.xlabel('Rate')\n",
        "plt.ylabel('Count')\n",
        "plt.title('Distribution of Rate')\n",
        "plt.show()"
      ],
      "metadata": {
        "id": "bf14gJrjk-Fh"
      },
      "execution_count": null,
      "outputs": []
    },
    {
      "cell_type": "code",
      "source": [
        "# conclusion : majority of resturent received rating from 3.5 to 4"
      ],
      "metadata": {
        "id": "lTWxnEcelSoL"
      },
      "execution_count": null,
      "outputs": []
    },
    {
      "cell_type": "code",
      "source": [
        "# Average order spending by couples"
      ],
      "metadata": {
        "id": "deGPtKMBoPN3"
      },
      "execution_count": null,
      "outputs": []
    },
    {
      "cell_type": "code",
      "source": [
        "df.head()"
      ],
      "metadata": {
        "id": "FFm-QbQfSjeq"
      },
      "execution_count": null,
      "outputs": []
    },
    {
      "cell_type": "code",
      "source": [
        "# average spending by couple\n",
        "\n",
        "couple_data = df['approx_cost(for two people)']\n",
        "sns.countplot(x=couple_data)\n",
        "plt.xlabel('Average order spending by couples')\n",
        "plt.ylabel('Count')\n",
        "plt.title('Average order spending by couples')\n",
        "plt.show()"
      ],
      "metadata": {
        "id": "qiwkIZn7Sk5E"
      },
      "execution_count": null,
      "outputs": []
    },
    {
      "cell_type": "code",
      "source": [
        "# conclusion : the majority of couples prefer resturents with an approximate order value of rs300"
      ],
      "metadata": {
        "id": "R_heCuUrTLhi"
      },
      "execution_count": null,
      "outputs": []
    },
    {
      "cell_type": "code",
      "source": [
        "# which mode receive maximum rating ?\n",
        "df.head()"
      ],
      "metadata": {
        "id": "mf9Z-Um3T8Wi"
      },
      "execution_count": null,
      "outputs": []
    },
    {
      "cell_type": "code",
      "source": [
        "plt.figure(figsize =(6,6))\n",
        "sns.boxplot(x= 'online_order',y='rate',data=df)\n",
        "plt.show()"
      ],
      "metadata": {
        "id": "_Nem7gM1UNCq"
      },
      "execution_count": null,
      "outputs": []
    },
    {
      "cell_type": "code",
      "source": [
        "#conclusion : offline order received lower rating in comparison to online order"
      ],
      "metadata": {
        "id": "LqkZOPzSUrfU"
      },
      "execution_count": null,
      "outputs": []
    },
    {
      "cell_type": "code",
      "source": [
        "pivot_table = df.pivot_table(index='listed_in(type)',columns='online_order',aggfunc='size',fill_value=0)\n",
        "sns.heatmap(pivot_table,annot=True,cmap='YlGnBu',fmt ='d')\n",
        "plt.title('Resturent Type vs Online Order')\n",
        "plt.xlabel('Online Order')\n",
        "plt.ylabel('Resturent Type')\n",
        "plt.show()"
      ],
      "metadata": {
        "id": "n4oQe5BvVDBJ"
      },
      "execution_count": null,
      "outputs": []
    },
    {
      "cell_type": "code",
      "source": [
        "# Conclusion : Dinning resturent primarily accept offline orders, whereas cafes primarily receive online orders .\n",
        "# This suggests that clients prefer to dine in resturents whereas online ordering is prefer in cafes."
      ],
      "metadata": {
        "id": "gx3f87luWWXf"
      },
      "execution_count": null,
      "outputs": []
    },
    {
      "cell_type": "code",
      "source": [],
      "metadata": {
        "id": "AFp-OkfGXl65"
      },
      "execution_count": null,
      "outputs": []
    }
  ]
}